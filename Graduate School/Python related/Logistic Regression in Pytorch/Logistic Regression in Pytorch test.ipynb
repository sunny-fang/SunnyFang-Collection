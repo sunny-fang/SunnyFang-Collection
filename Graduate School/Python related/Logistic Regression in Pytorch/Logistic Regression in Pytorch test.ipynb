{
 "cells": [
  {
   "cell_type": "markdown",
   "metadata": {},
   "source": [
    "## By hand-made data"
   ]
  },
  {
   "cell_type": "code",
   "execution_count": 367,
   "metadata": {},
   "outputs": [],
   "source": [
    "import torch\n",
    "from torch.autograd import Variable\n",
    "from torch.nn import functional as F\n",
    "import numpy as np\n",
    "import matplotlib.pyplot as plt"
   ]
  },
  {
   "cell_type": "code",
   "execution_count": 327,
   "metadata": {
    "scrolled": true
   },
   "outputs": [
    {
     "name": "stdout",
     "output_type": "stream",
     "text": [
      "torch.Size([2000, 50])\n",
      "torch.Size([2000, 1])\n"
     ]
    }
   ],
   "source": [
    "torch.manual_seed(42)\n",
    "X1 = torch.randn(1000, 50)\n",
    "X2 = torch.randn(1000, 50) + 1.5\n",
    "X = torch.cat([X1, X2], dim=0)\n",
    "Y1 = torch.zeros(1000, 1)\n",
    "Y2 = torch.ones(1000, 1)\n",
    "Y = torch.cat([Y1, Y2], dim=0)\n",
    "print(X.size())\n",
    "print(Y.size())"
   ]
  },
  {
   "cell_type": "code",
   "execution_count": 328,
   "metadata": {},
   "outputs": [],
   "source": [
    "class LogisticModel(torch.nn.Module):\n",
    "     def __init__(self):\n",
    "        super().__init__()\n",
    "        self.linear = torch.nn.Linear(50, 1)\n",
    "    \n",
    "     def forward(self, x):\n",
    "        y_pred = F.sigmoid(self.linear(x))\n",
    "        return y_pred\n"
   ]
  },
  {
   "cell_type": "code",
   "execution_count": 371,
   "metadata": {
    "scrolled": false
   },
   "outputs": [
    {
     "name": "stdout",
     "output_type": "stream",
     "text": [
      "OrderedDict([('linear.weight', tensor([[ 0.1081,  0.1174, -0.0331,  0.1299, -0.0310,  0.0285, -0.0689,  0.0831,\n",
      "          0.1247, -0.1038,  0.1229,  0.0265,  0.1045,  0.0192,  0.0682, -0.0200,\n",
      "          0.1090,  0.0209, -0.0660,  0.0360, -0.0652, -0.0166, -0.0574,  0.0938,\n",
      "         -0.1116, -0.0652, -0.0399, -0.0850,  0.0133, -0.1397,  0.1277, -0.1201,\n",
      "          0.1092,  0.0235, -0.0459,  0.0874,  0.0220,  0.1143,  0.0155, -0.0446,\n",
      "          0.0380, -0.0384,  0.0595,  0.1263,  0.0817, -0.0618,  0.0816,  0.0253,\n",
      "          0.0718, -0.0862]])), ('linear.bias', tensor([-0.1400]))])\n",
      "0 tensor(0.4800)\n",
      "1 tensor(0.4639)\n",
      "2 tensor(0.4507)\n",
      "3 tensor(0.4396)\n",
      "4 tensor(0.4302)\n",
      "5 tensor(0.4222)\n",
      "6 tensor(0.4153)\n",
      "7 tensor(0.4092)\n",
      "8 tensor(0.4039)\n",
      "9 tensor(0.3991)\n",
      "10 tensor(0.3949)\n",
      "11 tensor(0.3910)\n",
      "12 tensor(0.3876)\n",
      "13 tensor(0.3844)\n",
      "14 tensor(0.3815)\n",
      "15 tensor(0.3788)\n",
      "16 tensor(0.3763)\n",
      "17 tensor(0.3740)\n",
      "18 tensor(0.3718)\n",
      "19 tensor(0.3698)\n",
      "OrderedDict([('linear.weight', tensor([[ 0.1255,  0.1335, -0.0138,  0.1445, -0.0111,  0.0460, -0.0460,  0.1003,\n",
      "          0.1406, -0.0775,  0.1388,  0.0442,  0.1190,  0.0378,  0.0852,  0.0027,\n",
      "          0.1280,  0.0411, -0.0414,  0.0543, -0.0436,  0.0033, -0.0331,  0.1083,\n",
      "         -0.0867, -0.0447, -0.0205, -0.0593,  0.0326, -0.1132,  0.1417, -0.0969,\n",
      "          0.1269,  0.0442, -0.0237,  0.1041,  0.0411,  0.1317,  0.0373, -0.0251,\n",
      "          0.0564, -0.0182,  0.0758,  0.1444,  0.0996, -0.0392,  0.0985,  0.0455,\n",
      "          0.0906, -0.0675]])), ('linear.bias', tensor([-0.1726]))])\n"
     ]
    }
   ],
   "source": [
    "torch.manual_seed(42)\n",
    "model = LogisticModel()\n",
    "print(model.state_dict())\n",
    "\n",
    "loss_func = torch.nn.BCELoss(size_average=True)\n",
    "optimizer = torch.optim.SGD(model.parameters(), lr=0.01)\n",
    "\n",
    "losses = []\n",
    "for epoch in range(20):\n",
    "    model.train()\n",
    "    y_hat = model(X)\n",
    "    loss = loss_func(y_hat, Y)\n",
    "    print(epoch, loss.data)\n",
    "    loss.backward()\n",
    "    optimizer.step()\n",
    "    optimizer.zero_grad()\n",
    "    losses.append(loss.data.numpy())\n",
    "    \n",
    "    \n",
    "print(model.state_dict())"
   ]
  },
  {
   "cell_type": "code",
   "execution_count": 335,
   "metadata": {
    "scrolled": true
   },
   "outputs": [
    {
     "data": {
      "text/plain": [
       "[<matplotlib.lines.Line2D at 0x24508e6a550>]"
      ]
     },
     "execution_count": 335,
     "metadata": {},
     "output_type": "execute_result"
    },
    {
     "data": {
      "image/png": "[encoded data removed]",
      "text/plain": [
       "<Figure size 432x288 with 1 Axes>"
      ]
     },
     "metadata": {
      "needs_background": "light"
     },
     "output_type": "display_data"
    }
   ],
   "source": [
    "plt.plot(losses)"
   ]
  },
  {
   "cell_type": "code",
   "execution_count": 365,
   "metadata": {},
   "outputs": [
    {
     "data": {
      "text/plain": [
       "tensor([[0.1918],\n",
       "        [0.5481],\n",
       "        [0.4388],\n",
       "        [0.3272],\n",
       "        [0.5106],\n",
       "        [0.6808],\n",
       "        [0.2541],\n",
       "        [0.2363],\n",
       "        [0.4658],\n",
       "        [0.4278],\n",
       "        [0.8857],\n",
       "        [0.9182],\n",
       "        [0.9192],\n",
       "        [0.9498],\n",
       "        [0.9792],\n",
       "        [0.8666],\n",
       "        [0.8778],\n",
       "        [0.8764],\n",
       "        [0.9373],\n",
       "        [0.9086]], grad_fn=<SigmoidBackward>)"
      ]
     },
     "execution_count": 365,
     "metadata": {},
     "output_type": "execute_result"
    }
   ],
   "source": [
    "torch.manual_seed(42)\n",
    "X1_test = torch.randn(10, 50)\n",
    "X2_test = torch.randn(10, 50) + 1.5\n",
    "X_test = torch.cat([X1_test, X2_test], dim = 0)\n",
    "model(X_test)"
   ]
  }
 ],
 "metadata": {
  "kernelspec": {
   "display_name": "Python 3",
   "language": "python",
   "name": "python3"
  },
  "language_info": {
   "codemirror_mode": {
    "name": "ipython",
    "version": 3
   },
   "file_extension": ".py",
   "mimetype": "text/x-python",
   "name": "python",
   "nbconvert_exporter": "python",
   "pygments_lexer": "ipython3",
   "version": "3.7.3"
  }
 },
 "nbformat": 4,
 "nbformat_minor": 2
}
